{
 "cells": [
  {
   "cell_type": "code",
   "execution_count": 133,
   "metadata": {},
   "outputs": [],
   "source": [
    "def ask_p1():\n",
    "    choice='wrong'\n",
    "    while choice not in ['Y','y','N','n']:\n",
    "        choice=input(\"Player 1 are you ready? (y or n) \")\n",
    "        if choice not in ['Y','y','N','n']:\n",
    "            print('Give a right choice.')\n",
    "    if choice =='Y' or choice =='y':\n",
    "        return True\n",
    "    else:\n",
    "        return False"
   ]
  },
  {
   "cell_type": "code",
   "execution_count": 134,
   "metadata": {},
   "outputs": [],
   "source": [
    "def ask_p2():\n",
    "    choice='wrong'\n",
    "    while choice not in ['Y','y','N','n']:\n",
    "        choice=input(\"Player 2 are you ready? (y or n) \")\n",
    "        if choice not in ['Y','y','N','n']:\n",
    "            print('Give a right choice.')\n",
    "    if choice =='Y' or choice =='y':\n",
    "        return True\n",
    "    else:\n",
    "        return False"
   ]
  },
  {
   "cell_type": "code",
   "execution_count": 135,
   "metadata": {},
   "outputs": [],
   "source": [
    "def check_winner_p1(moves):\n",
    "    if(moves[0]=='X' and moves[1]=='X' and moves[2]=='X'):\n",
    "        return True\n",
    "    elif(moves[3]=='X' and moves[4]=='X' and moves[5]=='X'):\n",
    "        return True\n",
    "    elif(moves[6]=='X' and moves[7]=='X' and moves[8]=='X'):\n",
    "        return True\n",
    "    elif(moves[0]=='X' and moves[3]=='X' and moves[6]=='X'):\n",
    "        return True\n",
    "    elif(moves[1]=='X' and moves[4]=='X' and moves[7]=='X'):\n",
    "        return True\n",
    "    elif(moves[2]=='X' and moves[5]=='X' and moves[8]=='X'):\n",
    "        return True\n",
    "    elif(moves[0]=='X' and moves[4]=='X' and moves[8]=='X'):\n",
    "        return True\n",
    "    elif(moves[2]=='X' and moves[4]=='X' and moves[6]=='X'):\n",
    "        return True\n",
    "    else:\n",
    "        return False"
   ]
  },
  {
   "cell_type": "code",
   "execution_count": 136,
   "metadata": {},
   "outputs": [],
   "source": [
    "def check_winner_p2(moves):\n",
    "    if(moves[0]=='O' and moves[1]=='O' and moves[2]=='O'):\n",
    "        return True\n",
    "    elif(moves[3]=='O' and moves[4]=='O' and moves[5]=='O'):\n",
    "        return True\n",
    "    elif(moves[6]=='O' and moves[7]=='O' and moves[8]=='O'):\n",
    "        return True\n",
    "    elif(moves[0]=='O' and moves[3]=='O' and moves[6]=='O'):\n",
    "        return True\n",
    "    elif(moves[1]=='O' and moves[4]=='O' and moves[7]=='O'):\n",
    "        return True\n",
    "    elif(moves[2]=='O' and moves[5]=='O' and moves[8]=='O'):\n",
    "        return True\n",
    "    elif(moves[0]=='O' and moves[4]=='O' and moves[8]=='O'):\n",
    "        return True\n",
    "    elif(moves[2]=='O' and moves[4]=='O' and moves[6]=='O'):\n",
    "        return True\n",
    "    else:\n",
    "        return False"
   ]
  },
  {
   "cell_type": "code",
   "execution_count": 137,
   "metadata": {},
   "outputs": [],
   "source": [
    "def player1_move():\n",
    "    choice='wrong'\n",
    "    while choice not in [0,1,2,3,4,5,6,7,8]:\n",
    "        choice=int(input('Enter position where you want to mark X:'))\n",
    "        if choice not in [0,1,2,3,4,5,6,7,8]:\n",
    "            print('Enter a valid position please.')\n",
    "    return choice\n",
    "            \n",
    "def player2_move():\n",
    "    choice='wrong'\n",
    "    while choice not in [0,1,2,3,4,5,6,7,8]:\n",
    "        choice=int(input('Enter position where you want to mark Y:'))\n",
    "        if choice not in [0,1,2,3,4,5,6,7,8]:\n",
    "            print('Enter a valid position please.')\n",
    "    return choice"
   ]
  },
  {
   "cell_type": "code",
   "execution_count": 138,
   "metadata": {},
   "outputs": [],
   "source": [
    "def check_cell(moves,pos):\n",
    "    if(moves[pos]=='O' or moves[pos]=='X'):\n",
    "        return True\n",
    "    elif(moves[pos]==' ' ):\n",
    "        return False"
   ]
  },
  {
   "cell_type": "code",
   "execution_count": 150,
   "metadata": {},
   "outputs": [],
   "source": [
    "def fill_cellW_x(moves,pos):\n",
    "    moves[pos]='X'\n",
    "\n",
    "    \n",
    "def fill_cellW_y(moves,pos):\n",
    "    moves[pos]='Y'\n"
   ]
  },
  {
   "cell_type": "code",
   "execution_count": 151,
   "metadata": {},
   "outputs": [],
   "source": [
    "def display_board(moves):\n",
    "    print('{0}|{1}|{2} '.format(moves[0],moves[1],moves[2]))\n",
    "    print('------')\n",
    "    print('{0}|{1}|{2} '.format(moves[3],moves[4],moves[5]))\n",
    "    print('------')\n",
    "    print('{0}|{1}|{2} '.format(moves[6],moves[7],moves[8]))"
   ]
  },
  {
   "cell_type": "code",
   "execution_count": 157,
   "metadata": {},
   "outputs": [
    {
     "name": "stdout",
     "output_type": "stream",
     "text": [
      " | |  \n",
      "------\n",
      " | |  \n",
      "------\n",
      " | |  \n"
     ]
    }
   ],
   "source": [
    "display_board(moves)"
   ]
  },
  {
   "cell_type": "code",
   "execution_count": 185,
   "metadata": {},
   "outputs": [],
   "source": [
    "moves=[' ',' ',' ',' ',' ',' ',' ',' ',' ']\n",
    "def play():\n",
    "    \n",
    "    p1c=ask_p1()\n",
    "    p2c=ask_p2()\n",
    "    keep_playing=False\n",
    "    counter=0\n",
    "    \n",
    "    if p1c and p2c:\n",
    "        while not(keep_playing):\n",
    "            \n",
    "            isEmptyP1=True\n",
    "            while isEmptyP1:\n",
    "                p1_move=player1_move()\n",
    "                isEmptyP1=check_cell(moves,p1_move)\n",
    "                if isEmptyP1==True:\n",
    "                    print('Cell Taken')\n",
    "            fill_cellW_x(moves,p1_move)\n",
    "            keep_playing = check_winner_p1(moves)\n",
    "            display_board(moves)\n",
    "            if keep_playing:\n",
    "                break\n",
    "            counter+=1\n",
    "            \n",
    "            \n",
    "            isEmptyP2=True\n",
    "            while isEmptyP2:\n",
    "                p2_move=player2_move()\n",
    "                isEmptyP2=check_cell(moves,p2_move)\n",
    "                if isEmptyP2==True:\n",
    "                    print('Cell Taken')\n",
    "                \n",
    "            fill_cellW_y(moves,p2_move)\n",
    "            keep_playing = check_winner_p2(moves)\n",
    "            display_board(moves)\n",
    "            if keep_playing:\n",
    "                break\n",
    "            counter+=1\n",
    "            \n",
    "            if counter==8:\n",
    "                break\n",
    "        \n",
    "        \n",
    "        if(counter==8):\n",
    "            print('DRAW!')\n",
    "        elif(counter%2==0):\n",
    "            print('Player1 Won!')\n",
    "        else:\n",
    "            print('Player2 Won!')\n",
    "        \n",
    "    else:\n",
    "        print('Not ready. Exiting.')"
   ]
  },
  {
   "cell_type": "code",
   "execution_count": 186,
   "metadata": {},
   "outputs": [
    {
     "name": "stdout",
     "output_type": "stream",
     "text": [
      "Player 1 are you ready? (y or n) y\n",
      "Player 2 are you ready? (y or n) y\n",
      "Enter position where you want to mark X:1\n",
      " |X|  \n",
      "------\n",
      " | |  \n",
      "------\n",
      " | |  \n",
      "Enter position where you want to mark Y:1\n",
      "Cell Taken\n",
      "Enter position where you want to mark Y:1\n",
      "Cell Taken\n"
     ]
    },
    {
     "ename": "KeyboardInterrupt",
     "evalue": "Interrupted by user",
     "output_type": "error",
     "traceback": [
      "\u001b[1;31m---------------------------------------------------------------------------\u001b[0m",
      "\u001b[1;31mKeyboardInterrupt\u001b[0m                         Traceback (most recent call last)",
      "\u001b[1;32m<ipython-input-186-425fd712de3c>\u001b[0m in \u001b[0;36m<module>\u001b[1;34m\u001b[0m\n\u001b[1;32m----> 1\u001b[1;33m \u001b[0mplay\u001b[0m\u001b[1;33m(\u001b[0m\u001b[1;33m)\u001b[0m\u001b[1;33m\u001b[0m\u001b[1;33m\u001b[0m\u001b[0m\n\u001b[0m",
      "\u001b[1;32m<ipython-input-185-6acc37bd7941>\u001b[0m in \u001b[0;36mplay\u001b[1;34m()\u001b[0m\n\u001b[0;32m     26\u001b[0m             \u001b[0misEmptyP2\u001b[0m\u001b[1;33m=\u001b[0m\u001b[1;32mTrue\u001b[0m\u001b[1;33m\u001b[0m\u001b[1;33m\u001b[0m\u001b[0m\n\u001b[0;32m     27\u001b[0m             \u001b[1;32mwhile\u001b[0m \u001b[0misEmptyP2\u001b[0m\u001b[1;33m:\u001b[0m\u001b[1;33m\u001b[0m\u001b[1;33m\u001b[0m\u001b[0m\n\u001b[1;32m---> 28\u001b[1;33m                 \u001b[0mp2_move\u001b[0m\u001b[1;33m=\u001b[0m\u001b[0mplayer2_move\u001b[0m\u001b[1;33m(\u001b[0m\u001b[1;33m)\u001b[0m\u001b[1;33m\u001b[0m\u001b[1;33m\u001b[0m\u001b[0m\n\u001b[0m\u001b[0;32m     29\u001b[0m                 \u001b[0misEmptyP2\u001b[0m\u001b[1;33m=\u001b[0m\u001b[0mcheck_cell\u001b[0m\u001b[1;33m(\u001b[0m\u001b[0mmoves\u001b[0m\u001b[1;33m,\u001b[0m\u001b[0mp2_move\u001b[0m\u001b[1;33m)\u001b[0m\u001b[1;33m\u001b[0m\u001b[1;33m\u001b[0m\u001b[0m\n\u001b[0;32m     30\u001b[0m                 \u001b[1;32mif\u001b[0m \u001b[0misEmptyP2\u001b[0m\u001b[1;33m==\u001b[0m\u001b[1;32mTrue\u001b[0m\u001b[1;33m:\u001b[0m\u001b[1;33m\u001b[0m\u001b[1;33m\u001b[0m\u001b[0m\n",
      "\u001b[1;32m<ipython-input-137-71a48e2c0be4>\u001b[0m in \u001b[0;36mplayer2_move\u001b[1;34m()\u001b[0m\n\u001b[0;32m     10\u001b[0m     \u001b[0mchoice\u001b[0m\u001b[1;33m=\u001b[0m\u001b[1;34m'wrong'\u001b[0m\u001b[1;33m\u001b[0m\u001b[1;33m\u001b[0m\u001b[0m\n\u001b[0;32m     11\u001b[0m     \u001b[1;32mwhile\u001b[0m \u001b[0mchoice\u001b[0m \u001b[1;32mnot\u001b[0m \u001b[1;32min\u001b[0m \u001b[1;33m[\u001b[0m\u001b[1;36m0\u001b[0m\u001b[1;33m,\u001b[0m\u001b[1;36m1\u001b[0m\u001b[1;33m,\u001b[0m\u001b[1;36m2\u001b[0m\u001b[1;33m,\u001b[0m\u001b[1;36m3\u001b[0m\u001b[1;33m,\u001b[0m\u001b[1;36m4\u001b[0m\u001b[1;33m,\u001b[0m\u001b[1;36m5\u001b[0m\u001b[1;33m,\u001b[0m\u001b[1;36m6\u001b[0m\u001b[1;33m,\u001b[0m\u001b[1;36m7\u001b[0m\u001b[1;33m,\u001b[0m\u001b[1;36m8\u001b[0m\u001b[1;33m]\u001b[0m\u001b[1;33m:\u001b[0m\u001b[1;33m\u001b[0m\u001b[1;33m\u001b[0m\u001b[0m\n\u001b[1;32m---> 12\u001b[1;33m         \u001b[0mchoice\u001b[0m\u001b[1;33m=\u001b[0m\u001b[0mint\u001b[0m\u001b[1;33m(\u001b[0m\u001b[0minput\u001b[0m\u001b[1;33m(\u001b[0m\u001b[1;34m'Enter position where you want to mark Y:'\u001b[0m\u001b[1;33m)\u001b[0m\u001b[1;33m)\u001b[0m\u001b[1;33m\u001b[0m\u001b[1;33m\u001b[0m\u001b[0m\n\u001b[0m\u001b[0;32m     13\u001b[0m         \u001b[1;32mif\u001b[0m \u001b[0mchoice\u001b[0m \u001b[1;32mnot\u001b[0m \u001b[1;32min\u001b[0m \u001b[1;33m[\u001b[0m\u001b[1;36m0\u001b[0m\u001b[1;33m,\u001b[0m\u001b[1;36m1\u001b[0m\u001b[1;33m,\u001b[0m\u001b[1;36m2\u001b[0m\u001b[1;33m,\u001b[0m\u001b[1;36m3\u001b[0m\u001b[1;33m,\u001b[0m\u001b[1;36m4\u001b[0m\u001b[1;33m,\u001b[0m\u001b[1;36m5\u001b[0m\u001b[1;33m,\u001b[0m\u001b[1;36m6\u001b[0m\u001b[1;33m,\u001b[0m\u001b[1;36m7\u001b[0m\u001b[1;33m,\u001b[0m\u001b[1;36m8\u001b[0m\u001b[1;33m]\u001b[0m\u001b[1;33m:\u001b[0m\u001b[1;33m\u001b[0m\u001b[1;33m\u001b[0m\u001b[0m\n\u001b[0;32m     14\u001b[0m             \u001b[0mprint\u001b[0m\u001b[1;33m(\u001b[0m\u001b[1;34m'Enter a valid position please.'\u001b[0m\u001b[1;33m)\u001b[0m\u001b[1;33m\u001b[0m\u001b[1;33m\u001b[0m\u001b[0m\n",
      "\u001b[1;32m~\\anaconda3\\lib\\site-packages\\ipykernel\\kernelbase.py\u001b[0m in \u001b[0;36mraw_input\u001b[1;34m(self, prompt)\u001b[0m\n\u001b[0;32m    858\u001b[0m                 \u001b[1;34m\"raw_input was called, but this frontend does not support input requests.\"\u001b[0m\u001b[1;33m\u001b[0m\u001b[1;33m\u001b[0m\u001b[0m\n\u001b[0;32m    859\u001b[0m             )\n\u001b[1;32m--> 860\u001b[1;33m         return self._input_request(str(prompt),\n\u001b[0m\u001b[0;32m    861\u001b[0m             \u001b[0mself\u001b[0m\u001b[1;33m.\u001b[0m\u001b[0m_parent_ident\u001b[0m\u001b[1;33m,\u001b[0m\u001b[1;33m\u001b[0m\u001b[1;33m\u001b[0m\u001b[0m\n\u001b[0;32m    862\u001b[0m             \u001b[0mself\u001b[0m\u001b[1;33m.\u001b[0m\u001b[0m_parent_header\u001b[0m\u001b[1;33m,\u001b[0m\u001b[1;33m\u001b[0m\u001b[1;33m\u001b[0m\u001b[0m\n",
      "\u001b[1;32m~\\anaconda3\\lib\\site-packages\\ipykernel\\kernelbase.py\u001b[0m in \u001b[0;36m_input_request\u001b[1;34m(self, prompt, ident, parent, password)\u001b[0m\n\u001b[0;32m    902\u001b[0m             \u001b[1;32mexcept\u001b[0m \u001b[0mKeyboardInterrupt\u001b[0m\u001b[1;33m:\u001b[0m\u001b[1;33m\u001b[0m\u001b[1;33m\u001b[0m\u001b[0m\n\u001b[0;32m    903\u001b[0m                 \u001b[1;31m# re-raise KeyboardInterrupt, to truncate traceback\u001b[0m\u001b[1;33m\u001b[0m\u001b[1;33m\u001b[0m\u001b[1;33m\u001b[0m\u001b[0m\n\u001b[1;32m--> 904\u001b[1;33m                 \u001b[1;32mraise\u001b[0m \u001b[0mKeyboardInterrupt\u001b[0m\u001b[1;33m(\u001b[0m\u001b[1;34m\"Interrupted by user\"\u001b[0m\u001b[1;33m)\u001b[0m \u001b[1;32mfrom\u001b[0m \u001b[1;32mNone\u001b[0m\u001b[1;33m\u001b[0m\u001b[1;33m\u001b[0m\u001b[0m\n\u001b[0m\u001b[0;32m    905\u001b[0m             \u001b[1;32mexcept\u001b[0m \u001b[0mException\u001b[0m \u001b[1;32mas\u001b[0m \u001b[0me\u001b[0m\u001b[1;33m:\u001b[0m\u001b[1;33m\u001b[0m\u001b[1;33m\u001b[0m\u001b[0m\n\u001b[0;32m    906\u001b[0m                 \u001b[0mself\u001b[0m\u001b[1;33m.\u001b[0m\u001b[0mlog\u001b[0m\u001b[1;33m.\u001b[0m\u001b[0mwarning\u001b[0m\u001b[1;33m(\u001b[0m\u001b[1;34m\"Invalid Message:\"\u001b[0m\u001b[1;33m,\u001b[0m \u001b[0mexc_info\u001b[0m\u001b[1;33m=\u001b[0m\u001b[1;32mTrue\u001b[0m\u001b[1;33m)\u001b[0m\u001b[1;33m\u001b[0m\u001b[1;33m\u001b[0m\u001b[0m\n",
      "\u001b[1;31mKeyboardInterrupt\u001b[0m: Interrupted by user"
     ]
    }
   ],
   "source": [
    "play()"
   ]
  },
  {
   "cell_type": "code",
   "execution_count": null,
   "metadata": {},
   "outputs": [],
   "source": []
  },
  {
   "cell_type": "code",
   "execution_count": null,
   "metadata": {},
   "outputs": [],
   "source": []
  }
 ],
 "metadata": {
  "kernelspec": {
   "display_name": "Python 3",
   "language": "python",
   "name": "python3"
  },
  "language_info": {
   "codemirror_mode": {
    "name": "ipython",
    "version": 3
   },
   "file_extension": ".py",
   "mimetype": "text/x-python",
   "name": "python",
   "nbconvert_exporter": "python",
   "pygments_lexer": "ipython3",
   "version": "3.8.3"
  }
 },
 "nbformat": 4,
 "nbformat_minor": 4
}
